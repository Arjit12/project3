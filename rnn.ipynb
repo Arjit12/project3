{
 "cells": [
  {
   "cell_type": "code",
   "execution_count": 1,
   "id": "81fdc53e",
   "metadata": {},
   "outputs": [],
   "source": [
    "import numpy as np\n",
    "import matplotlib.pyplot as plt\n",
    "import pandas as pd"
   ]
  },
  {
   "cell_type": "code",
   "execution_count": 6,
   "id": "c03f3e52",
   "metadata": {},
   "outputs": [
    {
     "data": {
      "text/html": [
       "<div>\n",
       "<style scoped>\n",
       "    .dataframe tbody tr th:only-of-type {\n",
       "        vertical-align: middle;\n",
       "    }\n",
       "\n",
       "    .dataframe tbody tr th {\n",
       "        vertical-align: top;\n",
       "    }\n",
       "\n",
       "    .dataframe thead th {\n",
       "        text-align: right;\n",
       "    }\n",
       "</style>\n",
       "<table border=\"1\" class=\"dataframe\">\n",
       "  <thead>\n",
       "    <tr style=\"text-align: right;\">\n",
       "      <th></th>\n",
       "      <th>Date</th>\n",
       "      <th>Open</th>\n",
       "      <th>High</th>\n",
       "      <th>Low</th>\n",
       "      <th>Close</th>\n",
       "      <th>Volume</th>\n",
       "    </tr>\n",
       "  </thead>\n",
       "  <tbody>\n",
       "    <tr>\n",
       "      <th>0</th>\n",
       "      <td>1/3/2012</td>\n",
       "      <td>325.25</td>\n",
       "      <td>332.83</td>\n",
       "      <td>324.97</td>\n",
       "      <td>663.59</td>\n",
       "      <td>7,380,500</td>\n",
       "    </tr>\n",
       "    <tr>\n",
       "      <th>1</th>\n",
       "      <td>1/4/2012</td>\n",
       "      <td>331.27</td>\n",
       "      <td>333.87</td>\n",
       "      <td>329.08</td>\n",
       "      <td>666.45</td>\n",
       "      <td>5,749,400</td>\n",
       "    </tr>\n",
       "    <tr>\n",
       "      <th>2</th>\n",
       "      <td>1/5/2012</td>\n",
       "      <td>329.83</td>\n",
       "      <td>330.75</td>\n",
       "      <td>326.89</td>\n",
       "      <td>657.21</td>\n",
       "      <td>6,590,300</td>\n",
       "    </tr>\n",
       "    <tr>\n",
       "      <th>3</th>\n",
       "      <td>1/6/2012</td>\n",
       "      <td>328.34</td>\n",
       "      <td>328.77</td>\n",
       "      <td>323.68</td>\n",
       "      <td>648.24</td>\n",
       "      <td>5,405,900</td>\n",
       "    </tr>\n",
       "    <tr>\n",
       "      <th>4</th>\n",
       "      <td>1/9/2012</td>\n",
       "      <td>322.04</td>\n",
       "      <td>322.29</td>\n",
       "      <td>309.46</td>\n",
       "      <td>620.76</td>\n",
       "      <td>11,688,800</td>\n",
       "    </tr>\n",
       "    <tr>\n",
       "      <th>...</th>\n",
       "      <td>...</td>\n",
       "      <td>...</td>\n",
       "      <td>...</td>\n",
       "      <td>...</td>\n",
       "      <td>...</td>\n",
       "      <td>...</td>\n",
       "    </tr>\n",
       "    <tr>\n",
       "      <th>1253</th>\n",
       "      <td>12/23/2016</td>\n",
       "      <td>790.90</td>\n",
       "      <td>792.74</td>\n",
       "      <td>787.28</td>\n",
       "      <td>789.91</td>\n",
       "      <td>623,400</td>\n",
       "    </tr>\n",
       "    <tr>\n",
       "      <th>1254</th>\n",
       "      <td>12/27/2016</td>\n",
       "      <td>790.68</td>\n",
       "      <td>797.86</td>\n",
       "      <td>787.66</td>\n",
       "      <td>791.55</td>\n",
       "      <td>789,100</td>\n",
       "    </tr>\n",
       "    <tr>\n",
       "      <th>1255</th>\n",
       "      <td>12/28/2016</td>\n",
       "      <td>793.70</td>\n",
       "      <td>794.23</td>\n",
       "      <td>783.20</td>\n",
       "      <td>785.05</td>\n",
       "      <td>1,153,800</td>\n",
       "    </tr>\n",
       "    <tr>\n",
       "      <th>1256</th>\n",
       "      <td>12/29/2016</td>\n",
       "      <td>783.33</td>\n",
       "      <td>785.93</td>\n",
       "      <td>778.92</td>\n",
       "      <td>782.79</td>\n",
       "      <td>744,300</td>\n",
       "    </tr>\n",
       "    <tr>\n",
       "      <th>1257</th>\n",
       "      <td>12/30/2016</td>\n",
       "      <td>782.75</td>\n",
       "      <td>782.78</td>\n",
       "      <td>770.41</td>\n",
       "      <td>771.82</td>\n",
       "      <td>1,770,000</td>\n",
       "    </tr>\n",
       "  </tbody>\n",
       "</table>\n",
       "<p>1258 rows × 6 columns</p>\n",
       "</div>"
      ],
      "text/plain": [
       "            Date    Open    High     Low   Close      Volume\n",
       "0       1/3/2012  325.25  332.83  324.97  663.59   7,380,500\n",
       "1       1/4/2012  331.27  333.87  329.08  666.45   5,749,400\n",
       "2       1/5/2012  329.83  330.75  326.89  657.21   6,590,300\n",
       "3       1/6/2012  328.34  328.77  323.68  648.24   5,405,900\n",
       "4       1/9/2012  322.04  322.29  309.46  620.76  11,688,800\n",
       "...          ...     ...     ...     ...     ...         ...\n",
       "1253  12/23/2016  790.90  792.74  787.28  789.91     623,400\n",
       "1254  12/27/2016  790.68  797.86  787.66  791.55     789,100\n",
       "1255  12/28/2016  793.70  794.23  783.20  785.05   1,153,800\n",
       "1256  12/29/2016  783.33  785.93  778.92  782.79     744,300\n",
       "1257  12/30/2016  782.75  782.78  770.41  771.82   1,770,000\n",
       "\n",
       "[1258 rows x 6 columns]"
      ]
     },
     "execution_count": 6,
     "metadata": {},
     "output_type": "execute_result"
    }
   ],
   "source": [
    "df = pd.read_csv(\"E:\\Downloads\\Google_Stock_Price_Train.csv\")\n",
    "df\n"
   ]
  },
  {
   "cell_type": "code",
   "execution_count": 5,
   "id": "00455307",
   "metadata": {},
   "outputs": [
    {
     "data": {
      "text/plain": [
       "array([[325.25],\n",
       "       [331.27],\n",
       "       [329.83],\n",
       "       ...,\n",
       "       [793.7 ],\n",
       "       [783.33],\n",
       "       [782.75]])"
      ]
     },
     "execution_count": 5,
     "metadata": {},
     "output_type": "execute_result"
    }
   ],
   "source": [
    "training_set = df.iloc[:, 1:2].values\n",
    "training_set\n"
   ]
  },
  {
   "cell_type": "code",
   "execution_count": 7,
   "id": "0189b521",
   "metadata": {},
   "outputs": [],
   "source": [
    "from sklearn.preprocessing import MinMaxScaler\n",
    "sc = MinMaxScaler(feature_range = (0, 1))\n",
    "training_set_scaled = sc.fit_transform(training_set)"
   ]
  },
  {
   "cell_type": "code",
   "execution_count": 8,
   "id": "4ced48c3",
   "metadata": {},
   "outputs": [
    {
     "data": {
      "text/plain": [
       "MinMaxScaler()"
      ]
     },
     "execution_count": 8,
     "metadata": {},
     "output_type": "execute_result"
    }
   ],
   "source": [
    "sc"
   ]
  },
  {
   "cell_type": "code",
   "execution_count": 9,
   "id": "2e1ec31b",
   "metadata": {},
   "outputs": [
    {
     "data": {
      "text/plain": [
       "array([[0.08581368],\n",
       "       [0.09701243],\n",
       "       [0.09433366],\n",
       "       ...,\n",
       "       [0.95725128],\n",
       "       [0.93796041],\n",
       "       [0.93688146]])"
      ]
     },
     "execution_count": 9,
     "metadata": {},
     "output_type": "execute_result"
    }
   ],
   "source": [
    " training_set_scaled"
   ]
  },
  {
   "cell_type": "code",
   "execution_count": 10,
   "id": "f8e25158",
   "metadata": {},
   "outputs": [],
   "source": [
    "X_train = []\n",
    "y_train = []\n",
    "for i in range(60, 1258):\n",
    "    X_train.append(training_set_scaled[i-60:i, 0])\n",
    "    y_train.append(training_set_scaled[i, 0])\n",
    "X_train, y_train = np.array(X_train), np.array(y_train)\n"
   ]
  },
  {
   "cell_type": "code",
   "execution_count": 11,
   "id": "c8f2563c",
   "metadata": {},
   "outputs": [],
   "source": [
    "X_train = np.reshape(X_train, (X_train.shape[0], X_train.shape[1], 1))"
   ]
  },
  {
   "cell_type": "code",
   "execution_count": 12,
   "id": "f7eeaa71",
   "metadata": {},
   "outputs": [],
   "source": [
    "from keras.models import Sequential\n",
    "from keras.layers import Dense\n",
    "from keras.layers import LSTM\n",
    "from keras.layers import Dropout"
   ]
  },
  {
   "cell_type": "code",
   "execution_count": 13,
   "id": "bab8afc2",
   "metadata": {},
   "outputs": [],
   "source": [
    "regressor = Sequential()"
   ]
  },
  {
   "cell_type": "code",
   "execution_count": 14,
   "id": "e79f6fd0",
   "metadata": {},
   "outputs": [],
   "source": [
    "regressor.add(LSTM(units = 50, return_sequences = True, input_shape = (X_train.shape[1], 1)))\n",
    "regressor.add(Dropout(0.2))"
   ]
  },
  {
   "cell_type": "code",
   "execution_count": 15,
   "id": "8828b149",
   "metadata": {},
   "outputs": [],
   "source": [
    "regressor.add(LSTM(units = 50, return_sequences = True))\n",
    "regressor.add(Dropout(0.2))"
   ]
  },
  {
   "cell_type": "code",
   "execution_count": 16,
   "id": "a6e3b3d7",
   "metadata": {},
   "outputs": [],
   "source": [
    "regressor.add(LSTM(units = 50, return_sequences = True))\n",
    "regressor.add(Dropout(0.2))"
   ]
  },
  {
   "cell_type": "code",
   "execution_count": 17,
   "id": "cbb8f434",
   "metadata": {},
   "outputs": [],
   "source": [
    "regressor.add(LSTM(units = 50))\n",
    "regressor.add(Dropout(0.2))"
   ]
  },
  {
   "cell_type": "code",
   "execution_count": 18,
   "id": "fdbcf210",
   "metadata": {},
   "outputs": [],
   "source": [
    "regressor.add(Dense(units = 1))"
   ]
  },
  {
   "cell_type": "code",
   "execution_count": 19,
   "id": "3859cb37",
   "metadata": {},
   "outputs": [],
   "source": [
    "regressor.compile(optimizer = 'adam', loss = 'mean_squared_error')"
   ]
  },
  {
   "cell_type": "code",
   "execution_count": 20,
   "id": "8d305657",
   "metadata": {},
   "outputs": [
    {
     "name": "stdout",
     "output_type": "stream",
     "text": [
      "Epoch 1/100\n",
      "38/38 [==============================] - 35s 237ms/step - loss: 0.0376\n",
      "Epoch 2/100\n",
      "38/38 [==============================] - 9s 225ms/step - loss: 0.0060\n",
      "Epoch 3/100\n",
      "38/38 [==============================] - 8s 222ms/step - loss: 0.0054\n",
      "Epoch 4/100\n",
      "38/38 [==============================] - 9s 235ms/step - loss: 0.0054\n",
      "Epoch 5/100\n",
      "38/38 [==============================] - 9s 232ms/step - loss: 0.0048\n",
      "Epoch 6/100\n",
      "38/38 [==============================] - 8s 222ms/step - loss: 0.0046\n",
      "Epoch 7/100\n",
      "38/38 [==============================] - 9s 231ms/step - loss: 0.0060\n",
      "Epoch 8/100\n",
      "38/38 [==============================] - ETA: 0s - loss: 0.005 - 8s 219ms/step - loss: 0.0050\n",
      "Epoch 9/100\n",
      "38/38 [==============================] - 9s 224ms/step - loss: 0.0040\n",
      "Epoch 10/100\n",
      "38/38 [==============================] - 8s 221ms/step - loss: 0.0045\n",
      "Epoch 11/100\n",
      "38/38 [==============================] - 8s 220ms/step - loss: 0.0048\n",
      "Epoch 12/100\n",
      "38/38 [==============================] - 8s 220ms/step - loss: 0.0048\n",
      "Epoch 13/100\n",
      "38/38 [==============================] - 8s 223ms/step - loss: 0.0040\n",
      "Epoch 14/100\n",
      "38/38 [==============================] - 9s 229ms/step - loss: 0.0035\n",
      "Epoch 15/100\n",
      "38/38 [==============================] - 9s 229ms/step - loss: 0.0039\n",
      "Epoch 16/100\n",
      "38/38 [==============================] - 9s 227ms/step - loss: 0.0039\n",
      "Epoch 17/100\n",
      "38/38 [==============================] - 8s 223ms/step - loss: 0.0038\n",
      "Epoch 18/100\n",
      "38/38 [==============================] - 9s 225ms/step - loss: 0.0033\n",
      "Epoch 19/100\n",
      "38/38 [==============================] - 9s 224ms/step - loss: 0.0041\n",
      "Epoch 20/100\n",
      "38/38 [==============================] - 9s 226ms/step - loss: 0.0034\n",
      "Epoch 21/100\n",
      "38/38 [==============================] - 9s 226ms/step - loss: 0.0035\n",
      "Epoch 22/100\n",
      "38/38 [==============================] - 8s 222ms/step - loss: 0.0033\n",
      "Epoch 23/100\n",
      "38/38 [==============================] - 8s 222ms/step - loss: 0.0034\n",
      "Epoch 24/100\n",
      "38/38 [==============================] - 9s 231ms/step - loss: 0.0036\n",
      "Epoch 25/100\n",
      "38/38 [==============================] - 9s 225ms/step - loss: 0.0028\n",
      "Epoch 26/100\n",
      "38/38 [==============================] - 9s 223ms/step - loss: 0.0033\n",
      "Epoch 27/100\n",
      "38/38 [==============================] - 9s 227ms/step - loss: 0.0035\n",
      "Epoch 28/100\n",
      "38/38 [==============================] - 8s 221ms/step - loss: 0.0033\n",
      "Epoch 29/100\n",
      "38/38 [==============================] - 9s 237ms/step - loss: 0.0030\n",
      "Epoch 30/100\n",
      "38/38 [==============================] - 9s 225ms/step - loss: 0.0029\n",
      "Epoch 31/100\n",
      "38/38 [==============================] - 9s 224ms/step - loss: 0.0032\n",
      "Epoch 32/100\n",
      "38/38 [==============================] - 9s 226ms/step - loss: 0.0028\n",
      "Epoch 33/100\n",
      "38/38 [==============================] - 8s 222ms/step - loss: 0.0035\n",
      "Epoch 34/100\n",
      "38/38 [==============================] - 9s 225ms/step - loss: 0.0025\n",
      "Epoch 35/100\n",
      "38/38 [==============================] - 9s 225ms/step - loss: 0.0026\n",
      "Epoch 36/100\n",
      "38/38 [==============================] - 8s 222ms/step - loss: 0.0027\n",
      "Epoch 37/100\n",
      "38/38 [==============================] - 9s 225ms/step - loss: 0.0029\n",
      "Epoch 38/100\n",
      "38/38 [==============================] - 9s 225ms/step - loss: 0.0029\n",
      "Epoch 39/100\n",
      "38/38 [==============================] - 9s 229ms/step - loss: 0.0027\n",
      "Epoch 40/100\n",
      "38/38 [==============================] - 8s 222ms/step - loss: 0.0025\n",
      "Epoch 41/100\n",
      "38/38 [==============================] - 9s 230ms/step - loss: 0.0025\n",
      "Epoch 42/100\n",
      "38/38 [==============================] - 9s 228ms/step - loss: 0.0025\n",
      "Epoch 43/100\n",
      "38/38 [==============================] - 9s 249ms/step - loss: 0.0025\n",
      "Epoch 44/100\n",
      "38/38 [==============================] - 9s 223ms/step - loss: 0.0023\n",
      "Epoch 45/100\n",
      "38/38 [==============================] - 9s 225ms/step - loss: 0.0026\n",
      "Epoch 46/100\n",
      "38/38 [==============================] - 9s 224ms/step - loss: 0.0026\n",
      "Epoch 47/100\n",
      "38/38 [==============================] - 9s 228ms/step - loss: 0.0025\n",
      "Epoch 48/100\n",
      "38/38 [==============================] - 8s 223ms/step - loss: 0.0022\n",
      "Epoch 49/100\n",
      "38/38 [==============================] - 9s 230ms/step - loss: 0.0024\n",
      "Epoch 50/100\n",
      "38/38 [==============================] - 9s 225ms/step - loss: 0.0027\n",
      "Epoch 51/100\n",
      "38/38 [==============================] - 9s 240ms/step - loss: 0.0024\n",
      "Epoch 52/100\n",
      "38/38 [==============================] - 9s 239ms/step - loss: 0.0023\n",
      "Epoch 53/100\n",
      "38/38 [==============================] - 9s 225ms/step - loss: 0.0022\n",
      "Epoch 54/100\n",
      "38/38 [==============================] - 9s 233ms/step - loss: 0.0025\n",
      "Epoch 55/100\n",
      "38/38 [==============================] - 9s 227ms/step - loss: 0.0027\n",
      "Epoch 56/100\n",
      "38/38 [==============================] - 8s 223ms/step - loss: 0.0021\n",
      "Epoch 57/100\n",
      "38/38 [==============================] - 9s 223ms/step - loss: 0.0023\n",
      "Epoch 58/100\n",
      "38/38 [==============================] - 9s 233ms/step - loss: 0.0026\n",
      "Epoch 59/100\n",
      "38/38 [==============================] - 9s 229ms/step - loss: 0.0021\n",
      "Epoch 60/100\n",
      "38/38 [==============================] - 9s 228ms/step - loss: 0.0024\n",
      "Epoch 61/100\n",
      "38/38 [==============================] - 9s 227ms/step - loss: 0.0023\n",
      "Epoch 62/100\n",
      "38/38 [==============================] - 9s 223ms/step - loss: 0.0020\n",
      "Epoch 63/100\n",
      "38/38 [==============================] - 9s 229ms/step - loss: 0.0021\n",
      "Epoch 64/100\n",
      "38/38 [==============================] - 9s 232ms/step - loss: 0.0021\n",
      "Epoch 65/100\n",
      "38/38 [==============================] - 9s 231ms/step - loss: 0.0022\n",
      "Epoch 66/100\n",
      "38/38 [==============================] - 9s 228ms/step - loss: 0.0020\n",
      "Epoch 67/100\n",
      "38/38 [==============================] - 9s 228ms/step - loss: 0.0020\n",
      "Epoch 68/100\n",
      "38/38 [==============================] - 9s 228ms/step - loss: 0.0020 2s -\n",
      "Epoch 69/100\n",
      "38/38 [==============================] - 9s 227ms/step - loss: 0.0018\n",
      "Epoch 70/100\n",
      "38/38 [==============================] - 9s 224ms/step - loss: 0.0021\n",
      "Epoch 71/100\n",
      "38/38 [==============================] - 9s 230ms/step - loss: 0.0018\n",
      "Epoch 72/100\n",
      "38/38 [==============================] - 9s 231ms/step - loss: 0.0017\n",
      "Epoch 73/100\n",
      "38/38 [==============================] - 9s 232ms/step - loss: 0.0016\n",
      "Epoch 74/100\n",
      "38/38 [==============================] - 9s 229ms/step - loss: 0.0016\n",
      "Epoch 75/100\n",
      "38/38 [==============================] - 9s 231ms/step - loss: 0.0019\n",
      "Epoch 76/100\n",
      "38/38 [==============================] - 9s 233ms/step - loss: 0.0018\n",
      "Epoch 77/100\n",
      "38/38 [==============================] - 9s 224ms/step - loss: 0.0017\n",
      "Epoch 78/100\n",
      "38/38 [==============================] - 9s 226ms/step - loss: 0.0018\n",
      "Epoch 79/100\n",
      "38/38 [==============================] - 10s 254ms/step - loss: 0.0017\n",
      "Epoch 80/100\n",
      "38/38 [==============================] - 9s 233ms/step - loss: 0.0016\n",
      "Epoch 81/100\n",
      "38/38 [==============================] - 9s 226ms/step - loss: 0.0017\n",
      "Epoch 82/100\n",
      "38/38 [==============================] - 9s 227ms/step - loss: 0.0019\n",
      "Epoch 83/100\n",
      "38/38 [==============================] - 9s 238ms/step - loss: 0.0018\n",
      "Epoch 84/100\n",
      "38/38 [==============================] - 9s 230ms/step - loss: 0.0017\n",
      "Epoch 85/100\n",
      "38/38 [==============================] - 9s 225ms/step - loss: 0.0019\n",
      "Epoch 86/100\n",
      "38/38 [==============================] - 9s 234ms/step - loss: 0.0017\n",
      "Epoch 87/100\n",
      "38/38 [==============================] - 9s 230ms/step - loss: 0.0015\n",
      "Epoch 88/100\n",
      "38/38 [==============================] - 9s 225ms/step - loss: 0.0016\n",
      "Epoch 89/100\n",
      "38/38 [==============================] - 9s 230ms/step - loss: 0.0015\n",
      "Epoch 90/100\n",
      "38/38 [==============================] - 9s 224ms/step - loss: 0.0016\n",
      "Epoch 91/100\n",
      "38/38 [==============================] - 9s 230ms/step - loss: 0.0017\n",
      "Epoch 92/100\n",
      "38/38 [==============================] - 9s 225ms/step - loss: 0.0016\n",
      "Epoch 93/100\n",
      "38/38 [==============================] - 9s 246ms/step - loss: 0.0018\n",
      "Epoch 94/100\n",
      "38/38 [==============================] - 9s 229ms/step - loss: 0.0014\n",
      "Epoch 95/100\n",
      "38/38 [==============================] - 9s 227ms/step - loss: 0.0015\n",
      "Epoch 96/100\n",
      "38/38 [==============================] - 9s 228ms/step - loss: 0.0015\n",
      "Epoch 97/100\n",
      "38/38 [==============================] - 9s 230ms/step - loss: 0.0014\n",
      "Epoch 98/100\n",
      "38/38 [==============================] - 9s 229ms/step - loss: 0.0016\n",
      "Epoch 99/100\n"
     ]
    },
    {
     "name": "stdout",
     "output_type": "stream",
     "text": [
      "38/38 [==============================] - 9s 230ms/step - loss: 0.0014\n",
      "Epoch 100/100\n",
      "38/38 [==============================] - 9s 233ms/step - loss: 0.0015\n"
     ]
    },
    {
     "data": {
      "text/plain": [
       "<keras.callbacks.History at 0x19a48b31ca0>"
      ]
     },
     "execution_count": 20,
     "metadata": {},
     "output_type": "execute_result"
    }
   ],
   "source": [
    "regressor.fit(X_train, y_train, epochs = 100, batch_size = 32)"
   ]
  },
  {
   "cell_type": "code",
   "execution_count": 21,
   "id": "e6c541a1",
   "metadata": {},
   "outputs": [],
   "source": [
    "dataset_test = pd.read_csv(\"E:\\Downloads\\Google_Stock_Price_Test.csv\")\n",
    "real_stock_price = dataset_test.iloc[:, 1:2].values"
   ]
  },
  {
   "cell_type": "code",
   "execution_count": 23,
   "id": "b47a5551",
   "metadata": {},
   "outputs": [],
   "source": [
    "dataset_total = pd.concat((df['Open'], dataset_test['Open']), axis = 0)\n",
    "inputs = dataset_total[len(dataset_total) - len(dataset_test) - 60:].values\n",
    "inputs = inputs.reshape(-1,1)\n",
    "inputs = sc.transform(inputs)\n",
    "X_test = []\n",
    "for i in range(60, 80):\n",
    "    X_test.append(inputs[i-60:i, 0])\n",
    "X_test = np.array(X_test)\n",
    "X_test = np.reshape(X_test, (X_test.shape[0], X_test.shape[1], 1))\n",
    "predicted_stock_price = regressor.predict(X_test)\n",
    "predicted_stock_price = sc.inverse_transform(predicted_stock_price)\n"
   ]
  },
  {
   "cell_type": "code",
   "execution_count": 24,
   "id": "39730b66",
   "metadata": {},
   "outputs": [
    {
     "data": {
      "image/png": "[encoded data removed]",
      "text/plain": [
       "<Figure size 432x288 with 1 Axes>"
      ]
     },
     "metadata": {
      "needs_background": "light"
     },
     "output_type": "display_data"
    }
   ],
   "source": [
    "plt.plot(real_stock_price, color = 'red', label = 'Real Google Stock Price')\n",
    "plt.plot(predicted_stock_price, color = 'blue', label = 'Predicted Google Stock Price')\n",
    "plt.title('Google Stock Price Prediction')\n",
    "plt.xlabel('Time')\n",
    "plt.ylabel('Google Stock Price')\n",
    "plt.legend()\n",
    "plt.show()"
   ]
  },
  {
   "cell_type": "code",
   "execution_count": null,
   "id": "11a43d1f",
   "metadata": {},
   "outputs": [],
   "source": []
  }
 ],
 "metadata": {
  "kernelspec": {
   "display_name": "Python 3",
   "language": "python",
   "name": "python3"
  },
  "language_info": {
   "codemirror_mode": {
    "name": "ipython",
    "version": 3
   },
   "file_extension": ".py",
   "mimetype": "text/x-python",
   "name": "python",
   "nbconvert_exporter": "python",
   "pygments_lexer": "ipython3",
   "version": "3.8.8"
  }
 },
 "nbformat": 4,
 "nbformat_minor": 5
}
